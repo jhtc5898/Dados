{
 "cells": [
  {
   "cell_type": "code",
   "execution_count": 17,
   "metadata": {
    "scrolled": true
   },
   "outputs": [],
   "source": [
    "\n"
   ]
  },
  {
   "cell_type": "code",
   "execution_count": 70,
   "metadata": {},
   "outputs": [
    {
     "name": "stdout",
     "output_type": "stream",
     "text": [
      "Ingresar La Cantidad De Tiros: 100\n",
      "[1, 4, 5, 4, 2, 5, 2, 1, 1, 1, 2, 2, 2, 3, 5, 4, 3, 2, 6, 6, 2, 6, 1, 2, 3, 3, 2, 4, 3, 2, 4, 3, 1, 2, 1, 4, 3, 6, 1, 5, 4, 6, 6, 3, 3, 4, 3, 3, 3, 2, 5, 6, 2, 5, 4, 4, 6, 4, 3, 1, 4, 5, 4, 1, 6, 6, 6, 3, 6, 4, 6, 5, 3, 1, 6, 6, 5, 4, 3, 5, 4, 5, 1, 5, 6, 1, 6, 3, 6, 6, 3, 1, 6, 6, 2, 5, 3, 3, 5, 2]\n",
      "[2, 5, 6, 5, 4, 5, 5, 5, 2, 5, 3, 6, 1, 1, 4, 2, 4, 1, 4, 2, 3, 2, 1, 4, 4, 4, 4, 1, 3, 5, 2, 2, 1, 3, 1, 3, 3, 4, 4, 1, 4, 2, 4, 6, 5, 3, 1, 3, 3, 5, 3, 5, 4, 1, 3, 5, 3, 6, 1, 6, 2, 1, 5, 5, 2, 2, 4, 6, 2, 5, 1, 4, 3, 5, 6, 2, 5, 2, 2, 4, 2, 1, 6, 2, 6, 5, 6, 2, 2, 5, 5, 6, 4, 5, 3, 2, 1, 1, 6, 5]\n",
      "Resultado:  [3, 9, 11, 9, 6, 10, 7, 6, 3, 6, 5, 8, 3, 4, 9, 6, 7, 3, 10, 8, 5, 8, 2, 6, 7, 7, 6, 5, 6, 7, 6, 5, 2, 5, 2, 7, 6, 10, 5, 6, 8, 8, 10, 9, 8, 7, 4, 6, 6, 7, 8, 11, 6, 6, 7, 9, 9, 10, 4, 7, 6, 6, 9, 6, 8, 8, 10, 9, 8, 9, 7, 9, 6, 6, 12, 8, 10, 6, 5, 9, 6, 6, 7, 7, 12, 6, 12, 5, 8, 11, 8, 7, 10, 11, 5, 7, 4, 4, 11, 7]\n"
     ]
    },
    {
     "data": {
      "image/png": "[encoded data removed]",
      "text/plain": [
       "<Figure size 432x288 with 1 Axes>"
      ]
     },
     "metadata": {
      "needs_background": "light"
     },
     "output_type": "display_data"
    }
   ],
   "source": [
    "#Generacion De Dados\n",
    "from random import randint\n",
    "import matplotlib.pyplot as plot\n",
    "resultado = list()\n",
    "tiros = int(input(\"Ingresar La Cantidad De Tiros: \"))\n",
    "dado1 = [randint(1, 6) for p in range(1, tiros+1)]\n",
    "print(dado1)\n",
    "dado2 = [randint(1, 6) for p in range(1, tiros+1)]\n",
    "print(dado2)\n",
    "for x in range(0,len(dado1)):\n",
    "    #print ('Sumatoria en el Lanzamiento',x+1,' :',dado1[x]+dado2[x])\n",
    "    resultado.append(dado1[x]+dado2[x])   \n",
    "print('Resultado: ',resultado)\n",
    "intervalos = range(min(resultado), max(resultado) + 2) #calculamos los extremos de los intervalos\n",
    "\n",
    "plot.hist(x=resultado, bins=intervalos, color='#F2AB6D', rwidth=0.85)\n",
    "plot.title('Histograma')\n",
    "plot.xlabel('Sumatoria')\n",
    "plot.ylabel('Frecuencia')\n",
    "plot.xticks(intervalos)\n",
    "plot.show() #dibujamos el histograma"
   ]
  },
  {
   "cell_type": "code",
   "execution_count": null,
   "metadata": {},
   "outputs": [],
   "source": [
    "\n",
    "\n"
   ]
  },
  {
   "cell_type": "code",
   "execution_count": null,
   "metadata": {},
   "outputs": [],
   "source": []
  },
  {
   "cell_type": "code",
   "execution_count": null,
   "metadata": {},
   "outputs": [],
   "source": []
  },
  {
   "cell_type": "code",
   "execution_count": null,
   "metadata": {},
   "outputs": [],
   "source": []
  }
 ],
 "metadata": {
  "kernelspec": {
   "display_name": "Python 3",
   "language": "python",
   "name": "python3"
  },
  "language_info": {
   "codemirror_mode": {
    "name": "ipython",
    "version": 3
   },
   "file_extension": ".py",
   "mimetype": "text/x-python",
   "name": "python",
   "nbconvert_exporter": "python",
   "pygments_lexer": "ipython3",
   "version": "3.8.5"
  }
 },
 "nbformat": 4,
 "nbformat_minor": 4
}
